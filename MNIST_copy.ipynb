{
  "cells": [
    {
      "id": "cell-78ae53de-f7da-4305-804b-c1a5435b4a6b",
      "cell_type": "code",
      "source": "",
      "outputs": []
    }
  ],
  "metadata": {},
  "nbformat": 4,
  "nbformat_minor": 5
}